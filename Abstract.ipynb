{
 "cells": [
  {
   "cell_type": "markdown",
   "metadata": {},
   "source": [
    "Abstration "
   ]
  },
  {
   "cell_type": "markdown",
   "metadata": {},
   "source": [
    "Abstraction is the concept of hiding the complex implementation details and showing only the necessary features of an object. This helps in reducing programming complexity and effot.\n"
   ]
  },
  {
   "cell_type": "code",
   "execution_count": null,
   "metadata": {},
   "outputs": [],
   "source": [
    "from abc import ABC, abstractmethod\n",
    "\n",
    "## Abstract base class\n",
    "class Vehicle(ABC):\n",
    "    @abstractmethod\n",
    "    def start(self):\n",
    "        ptiny(\"Vehicle started\")  \n",
    "\n",
    "    @abstractmethod\n",
    "    def stop(self):\n",
    "        pass\n",
    "\n",
    "    @abstractmethod\n",
    "    def drive(self):\n",
    "        pass"
   ]
  }
 ],
 "metadata": {
  "language_info": {
   "name": "python"
  }
 },
 "nbformat": 4,
 "nbformat_minor": 2
}
