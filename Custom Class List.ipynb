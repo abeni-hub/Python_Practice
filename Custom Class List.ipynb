{
 "cells": [
  {
   "cell_type": "code",
   "execution_count": 2,
   "metadata": {},
   "outputs": [
    {
     "name": "stdout",
     "output_type": "stream",
     "text": [
      "Intiale size 56\n",
      "0 --> 88\n",
      "1 --> 88\n",
      "2 --> 88\n",
      "3 --> 88\n",
      "4 --> 120\n",
      "5 --> 120\n",
      "6 --> 120\n",
      "7 --> 120\n",
      "8 --> 184\n",
      "9 --> 184\n",
      "10 --> 184\n",
      "11 --> 184\n",
      "12 --> 184\n",
      "13 --> 184\n",
      "14 --> 184\n",
      "15 --> 184\n",
      "16 --> 248\n"
     ]
    }
   ],
   "source": [
    "import sys\n",
    "\n",
    "l1 = []\n",
    "\n",
    "print(\"Intiale size\" , sys.getsizeof(l1))\n",
    "\n",
    "for i in range(0,17):\n",
    "    l1.append(i)\n",
    "    print(f\"{i} --> {sys.getsizeof(l1)}\")\n",
    "\n"
   ]
  },
  {
   "cell_type": "code",
   "execution_count": 5,
   "metadata": {},
   "outputs": [
    {
     "name": "stdout",
     "output_type": "stream",
     "text": [
      "140717774472104\n",
      "140717774472136\n",
      "140717774472072\n",
      "[0, 1, 2, 3, 4, 5, 6, 7, 8, 9, 10, 11, 12, 13, 14, 15, 16, 1, 1, 1, 'Duduye']\n"
     ]
    }
   ],
   "source": [
    "a = 1\n",
    "l1.append(1)\n",
    "\n",
    "print(id(1))\n",
    "a = 2\n",
    "print(id(a))\n",
    "\n",
    "print(id(l1[0]))\n",
    "l1.append(\"Duduye\")\n",
    "print(l1)\n",
    "\n",
    "# python is working via reference "
   ]
  },
  {
   "cell_type": "code",
   "execution_count": null,
   "metadata": {},
   "outputs": [],
   "source": []
  }
 ],
 "metadata": {
  "kernelspec": {
   "display_name": "Python 3",
   "language": "python",
   "name": "python3"
  },
  "language_info": {
   "codemirror_mode": {
    "name": "ipython",
    "version": 3
   },
   "file_extension": ".py",
   "mimetype": "text/x-python",
   "name": "python",
   "nbconvert_exporter": "python",
   "pygments_lexer": "ipython3",
   "version": "3.13.1"
  }
 },
 "nbformat": 4,
 "nbformat_minor": 2
}
