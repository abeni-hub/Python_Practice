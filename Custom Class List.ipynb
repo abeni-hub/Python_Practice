{
 "cells": [
  {
   "cell_type": "code",
   "execution_count": 2,
   "metadata": {},
   "outputs": [
    {
     "name": "stdout",
     "output_type": "stream",
     "text": [
      "Intiale size 56\n",
      "0 --> 88\n",
      "1 --> 88\n",
      "2 --> 88\n",
      "3 --> 88\n",
      "4 --> 120\n",
      "5 --> 120\n",
      "6 --> 120\n",
      "7 --> 120\n",
      "8 --> 184\n",
      "9 --> 184\n",
      "10 --> 184\n",
      "11 --> 184\n",
      "12 --> 184\n",
      "13 --> 184\n",
      "14 --> 184\n",
      "15 --> 184\n",
      "16 --> 248\n"
     ]
    }
   ],
   "source": [
    "import sys\n",
    "\n",
    "l1 = []\n",
    "\n",
    "print(\"Intiale size\" , sys.getsizeof(l1))\n",
    "\n",
    "for i in range(0,17):\n",
    "    l1.append(i)\n",
    "    print(f\"{i} --> {sys.getsizeof(l1)}\")\n",
    "\n"
   ]
  },
  {
   "cell_type": "code",
   "execution_count": 5,
   "metadata": {},
   "outputs": [
    {
     "name": "stdout",
     "output_type": "stream",
     "text": [
      "140717774472104\n",
      "140717774472136\n",
      "140717774472072\n",
      "[0, 1, 2, 3, 4, 5, 6, 7, 8, 9, 10, 11, 12, 13, 14, 15, 16, 1, 1, 1, 'Duduye']\n"
     ]
    }
   ],
   "source": [
    "a = 1\n",
    "l1.append(1)\n",
    "\n",
    "print(id(1))\n",
    "a = 2\n",
    "print(id(a))\n",
    "\n",
    "print(id(l1[0]))\n",
    "l1.append(\"Duduye\")\n",
    "print(l1)\n",
    "\n",
    "# python is working via reference "
   ]
  },
  {
   "cell_type": "code",
   "execution_count": null,
   "metadata": {},
   "outputs": [
    {
     "ename": "AttributeError",
     "evalue": "'CustomList' object has no attribute '_CustomList__createArray'",
     "output_type": "error",
     "traceback": [
      "\u001b[1;31m---------------------------------------------------------------------------\u001b[0m",
      "\u001b[1;31mAttributeError\u001b[0m                            Traceback (most recent call last)",
      "Cell \u001b[1;32mIn[3], line 31\u001b[0m\n\u001b[0;32m     28\u001b[0m         \u001b[38;5;28mprint\u001b[39m(\u001b[38;5;124m\"\u001b[39m\u001b[38;5;124mGive me the logic and I will tell the size\u001b[39m\u001b[38;5;124m\"\u001b[39m)\n\u001b[0;32m     29\u001b[0m         \u001b[38;5;28;01mreturn\u001b[39;00m \u001b[38;5;241m0\u001b[39m    \n\u001b[1;32m---> 31\u001b[0m myList \u001b[38;5;241m=\u001b[39m \u001b[43mCustomList\u001b[49m\u001b[43m(\u001b[49m\u001b[43m)\u001b[49m\n\u001b[0;32m     32\u001b[0m myList\u001b[38;5;241m.\u001b[39mappend(\u001b[38;5;241m1\u001b[39m)\n\u001b[0;32m     33\u001b[0m myList\u001b[38;5;241m.\u001b[39mappend(\u001b[38;5;241m2\u001b[39m)\n",
      "Cell \u001b[1;32mIn[3], line 7\u001b[0m, in \u001b[0;36mCustomList.__init__\u001b[1;34m(self)\u001b[0m\n\u001b[0;32m      5\u001b[0m \u001b[38;5;28mself\u001b[39m\u001b[38;5;241m.\u001b[39mcapacity \u001b[38;5;241m=\u001b[39m initialCapacity\n\u001b[0;32m      6\u001b[0m \u001b[38;5;28mself\u001b[39m\u001b[38;5;241m.\u001b[39msize \u001b[38;5;241m=\u001b[39m \u001b[38;5;241m0\u001b[39m\n\u001b[1;32m----> 7\u001b[0m \u001b[38;5;28mself\u001b[39m\u001b[38;5;241m.\u001b[39marray \u001b[38;5;241m=\u001b[39m \u001b[38;5;28;43mself\u001b[39;49m\u001b[38;5;241;43m.\u001b[39;49m\u001b[43m__createArray\u001b[49m(\u001b[38;5;28mself\u001b[39m\u001b[38;5;241m.\u001b[39mcapacity)\n",
      "\u001b[1;31mAttributeError\u001b[0m: 'CustomList' object has no attribute '_CustomList__createArray'"
     ]
    }
   ],
   "source": [
    "import ctypes\n",
    "class CustomList:\n",
    "    def __init__(self):\n",
    "        initialCapacity = 1\n",
    "        self.capacity = initialCapacity\n",
    "        self.size = 0\n",
    "        self.array = self.__createArray(self.capacity)\n",
    "\n",
    "    def __create_array(self, capacity):\n",
    "        # Create a new referential array with given capacity\n",
    "        return (capacity*ctype.py_object())()\n",
    "    def __resize(self,new_capacity):\n",
    "        new_array = self.__create_array(new_capacity)\n",
    "        for i in range(self.size):\n",
    "            new_array[i] = self.array[i] # \n",
    "\n",
    "        self.array = new_array # Replace the old Array\n",
    "        self.capacity = new_capacity # Update the capacity\n",
    "\n",
    "    def append(self, item):\n",
    "        if(self.size == self.capacity):\n",
    "            self.__resizeArray(2*self.capacity)\n",
    "\n",
    "        self.array[self.size] = item\n",
    "        self.size += 1\n",
    "\n",
    "    def __len__(self):\n",
    "        print(\"Give me the logic and I will tell the size\")\n",
    "        return 0    \n",
    "\n",
    "myList = CustomList()\n",
    "myList.append(1)\n",
    "myList.append(2)\n",
    "print(len(myList))            \n",
    "        "
   ]
  },
  {
   "cell_type": "code",
   "execution_count": null,
   "metadata": {},
   "outputs": [],
   "source": []
  }
 ],
 "metadata": {
  "kernelspec": {
   "display_name": "Python 3",
   "language": "python",
   "name": "python3"
  },
  "language_info": {
   "codemirror_mode": {
    "name": "ipython",
    "version": 3
   },
   "file_extension": ".py",
   "mimetype": "text/x-python",
   "name": "python",
   "nbconvert_exporter": "python",
   "pygments_lexer": "ipython3",
   "version": "3.13.1"
  }
 },
 "nbformat": 4,
 "nbformat_minor": 2
}
