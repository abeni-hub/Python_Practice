{
 "cells": [
  {
   "cell_type": "code",
   "execution_count": 4,
   "metadata": {},
   "outputs": [
    {
     "name": "stdout",
     "output_type": "stream",
     "text": [
      "<class '__main__.Car'>\n",
      "<__main__.Car object at 0x000001E05C0D8B90>\n",
      "5\n",
      "4\n"
     ]
    }
   ],
   "source": [
    "class Car:\n",
    "    pass\n",
    "\n",
    "audio = Car()\n",
    "bmw = Car()\n",
    "\n",
    "print(type(audio))\n",
    "print(bmw)\n",
    "\n",
    "\n",
    "audio.windows = 5\n",
    "audio.doors = 4\n",
    "print(audio.windows)\n",
    "print(audio.doors)"
   ]
  },
  {
   "cell_type": "code",
   "execution_count": 5,
   "metadata": {},
   "outputs": [
    {
     "data": {
      "text/plain": [
       "['__class__',\n",
       " '__delattr__',\n",
       " '__dict__',\n",
       " '__dir__',\n",
       " '__doc__',\n",
       " '__eq__',\n",
       " '__firstlineno__',\n",
       " '__format__',\n",
       " '__ge__',\n",
       " '__getattribute__',\n",
       " '__getstate__',\n",
       " '__gt__',\n",
       " '__hash__',\n",
       " '__init__',\n",
       " '__init_subclass__',\n",
       " '__le__',\n",
       " '__lt__',\n",
       " '__module__',\n",
       " '__ne__',\n",
       " '__new__',\n",
       " '__reduce__',\n",
       " '__reduce_ex__',\n",
       " '__repr__',\n",
       " '__setattr__',\n",
       " '__sizeof__',\n",
       " '__static_attributes__',\n",
       " '__str__',\n",
       " '__subclasshook__',\n",
       " '__weakref__',\n",
       " 'doors',\n",
       " 'windows']"
      ]
     },
     "execution_count": 5,
     "metadata": {},
     "output_type": "execute_result"
    }
   ],
   "source": [
    "dir(audio)"
   ]
  },
  {
   "cell_type": "code",
   "execution_count": 11,
   "metadata": {},
   "outputs": [
    {
     "name": "stdout",
     "output_type": "stream",
     "text": [
      "Buddy 5\n"
     ]
    }
   ],
   "source": [
    "# Instance Variables and Methods\n",
    "class Dog:\n",
    "    def __init__(self, name, age):\n",
    "        self.name = name\n",
    "        self.age = age\n",
    "\n",
    "# Creating an object\n",
    "dog1 = Dog(\"Buddy\",5)\n",
    "dog2 = Dog(\"Miles\",4)\n",
    "print(dog1.name, dog1.age)    "
   ]
  },
  {
   "cell_type": "code",
   "execution_count": 15,
   "metadata": {},
   "outputs": [
    {
     "name": "stdout",
     "output_type": "stream",
     "text": [
      "Buddy  says bark bark\n",
      "Miles  says bark bark\n"
     ]
    }
   ],
   "source": [
    "# Define a class with instance method\n",
    "class Dog:\n",
    "    def __init__(self, name, age):\n",
    "        self.name = name\n",
    "        self.age = age\n",
    "\n",
    "    def bark(self):\n",
    "        print(self.name ,\" says bark bark\")   \n",
    "\n",
    "\n",
    "dog1 = Dog(\"Buddy\",5)\n",
    "dog1.bark()   \n",
    "dog2 = Dog(\"Miles\",4)\n",
    "dog2.bark()     "
   ]
  },
  {
   "cell_type": "code",
   "execution_count": 22,
   "metadata": {},
   "outputs": [
    {
     "name": "stdout",
     "output_type": "stream",
     "text": [
      "Eyoel 1000\n",
      "Amount Deposited: 500 New Balance: 1500\n",
      "1500\n",
      "Amount Withdrawn: 200 New Balance: 1300\n"
     ]
    }
   ],
   "source": [
    "# Modeling Bank Account\n",
    "\n",
    "# Define a class for bank account\n",
    "class BankAccount:\n",
    "    def __init__(self, name, balance=0):\n",
    "        self.name = name\n",
    "        self.balance = balance\n",
    "\n",
    "    def deposit(self, amount):\n",
    "        self.balance += amount\n",
    "        print(\"Amount Deposited:\", amount, \"New Balance:\", self.balance)\n",
    "\n",
    "    def withdraw(self, amount):\n",
    "        if amount > self.balance:\n",
    "            print(\"Insufficient Balance\")\n",
    "\n",
    "        else:\n",
    "            self.balance -= amount\n",
    "            print(\"Amount Withdrawn:\", amount, \"New Balance:\", self.balance)\n",
    "\n",
    "    def get_balance(self):\n",
    "        print(\"Balance:\", self.balance)         \n",
    "\n",
    "\n",
    "# Create an object of BankAccount\n",
    "account1 = BankAccount(\"Eyoel\", 1000)\n",
    "account2 = BankAccount(\"Mulu\", 2000)\n",
    "\n",
    "print(account1.name, account1.balance)\n",
    "\n",
    "\n",
    "# Call instance methods\n",
    "\n",
    "account1.deposit(500)\n",
    "print(account1.balance)\n",
    "\n",
    "account1.withdraw(200)"
   ]
  },
  {
   "cell_type": "code",
   "execution_count": null,
   "metadata": {},
   "outputs": [],
   "source": []
  }
 ],
 "metadata": {
  "kernelspec": {
   "display_name": "Python 3",
   "language": "python",
   "name": "python3"
  },
  "language_info": {
   "codemirror_mode": {
    "name": "ipython",
    "version": 3
   },
   "file_extension": ".py",
   "mimetype": "text/x-python",
   "name": "python",
   "nbconvert_exporter": "python",
   "pygments_lexer": "ipython3",
   "version": "3.13.1"
  }
 },
 "nbformat": 4,
 "nbformat_minor": 2
}
