{
 "cells": [
  {
   "cell_type": "markdown",
   "metadata": {},
   "source": [
    "Method Overriding\n",
    "\n",
    "Method overriding allows a child class to provide a specific implementation of a method that is already provided by its parent class."
   ]
  },
  {
   "cell_type": "code",
   "execution_count": 3,
   "metadata": {},
   "outputs": [
    {
     "name": "stdout",
     "output_type": "stream",
     "text": [
      "Bark\n",
      "Meow\n",
      "Bark\n",
      "Meow\n"
     ]
    }
   ],
   "source": [
    "# Base class \n",
    "class Animal:\n",
    "    def speak(self):\n",
    "        return \"Sound of the animals\"\n",
    "\n",
    "\n",
    "# Derived class\n",
    "class Dog(Animal):\n",
    "    def speak(self):\n",
    "        return \"Bark\"\n",
    "\n",
    "# Derived class 2\n",
    "class Cat(Animal):\n",
    "    def speak(self):\n",
    "        return \"Meow\"\n",
    "\n",
    "\n",
    "# Functions that demonstrate the polymorphism\n",
    "def animal_speak(animal):\n",
    "    print(animal.speak())   \n",
    "\n",
    "# Objects\n",
    "dog = Dog()\n",
    "cat = Cat()\n",
    "print(dog.speak())\n",
    "print(cat.speak())\n",
    "animal_speak(dog)\n",
    "animal_speak(cat)"
   ]
  },
  {
   "cell_type": "code",
   "execution_count": 6,
   "metadata": {},
   "outputs": [
    {
     "name": "stdout",
     "output_type": "stream",
     "text": [
      "200\n",
      "314.0\n"
     ]
    }
   ],
   "source": [
    "# Polymorphism with Functions and Methods\n",
    "# base class\n",
    "class Shape:\n",
    "    def area(self):\n",
    "        return \"The area of the figure\"\n",
    "\n",
    "## Derived class\n",
    "class Rectange(Shape):\n",
    "    def __init__(self, length, width):\n",
    "        self.length = length\n",
    "        self.width = width\n",
    "\n",
    "    def area(self):\n",
    "        return self.length * self.width\n",
    "\n",
    "## Derived class 2 \n",
    "class Circle(Shape):\n",
    "    def __init__(self, radius):\n",
    "        self.radius = radius\n",
    "\n",
    "    def area(self):\n",
    "        return 3.14 * self.radius * self.radius\n",
    "\n",
    "# Functions that demonstrate polymorphism\n",
    "def print_area(shap):\n",
    "    print(shap.area())       \n",
    "\n",
    "\n",
    "# Objects\n",
    "rectangle = Rectange(10, 20)\n",
    "circle = Circle(10)\n",
    "print_area(rectangle)\n",
    "print_area(circle)\n"
   ]
  },
  {
   "cell_type": "markdown",
   "metadata": {},
   "source": [
    "Polymorphism with AbstractBase Class\n",
    "\n",
    "Abstract Base Class(ABC) are used to define common methods for group or related objects. They can enforce that derived classes implement particular methods , promoting consistency across different implementations"
   ]
  },
  {
   "cell_type": "code",
   "execution_count": 8,
   "metadata": {},
   "outputs": [
    {
     "name": "stdout",
     "output_type": "stream",
     "text": [
      "You are driving a car\n"
     ]
    }
   ],
   "source": [
    "from abc import ABC, abstractmethod\n",
    "\n",
    "# Define an abstrat class\n",
    "class Vehicle(ABC):\n",
    "    @abstractmethod\n",
    "    def go(self):\n",
    "        pass\n",
    "\n",
    "# Derived class\n",
    "class Car(Vehicle):\n",
    "    def go(self):\n",
    "        return  \"You are driving a car\"\n",
    "\n",
    "# Derived class 2\n",
    "class Motorcycle(Vehicle):\n",
    "    def go(self):\n",
    "        return \"You are riding a motorcycle\"\n",
    "\n",
    "# Function that demonstrates polymorphism\n",
    "def go(vehicle):\n",
    "    print(vehicle.go())        \n",
    "\n",
    "# Create objects of Cars and Motorcycles\n",
    "car = Car()\n",
    "motorcycle = Motorcycle()\n",
    "\n",
    "\n",
    "go(car)\n",
    "\n",
    "\n",
    "\n",
    "\n"
   ]
  },
  {
   "cell_type": "code",
   "execution_count": null,
   "metadata": {},
   "outputs": [],
   "source": []
  }
 ],
 "metadata": {
  "kernelspec": {
   "display_name": "Python 3",
   "language": "python",
   "name": "python3"
  },
  "language_info": {
   "codemirror_mode": {
    "name": "ipython",
    "version": 3
   },
   "file_extension": ".py",
   "mimetype": "text/x-python",
   "name": "python",
   "nbconvert_exporter": "python",
   "pygments_lexer": "ipython3",
   "version": "3.13.1"
  }
 },
 "nbformat": 4,
 "nbformat_minor": 2
}
