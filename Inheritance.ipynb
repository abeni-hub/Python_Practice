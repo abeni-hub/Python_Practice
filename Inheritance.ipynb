{
 "cells": [
  {
   "cell_type": "code",
   "execution_count": 2,
   "metadata": {},
   "outputs": [
    {
     "name": "stdout",
     "output_type": "stream",
     "text": [
      "The person drives the Petrol car\n"
     ]
    }
   ],
   "source": [
    "# Inheritance\n",
    "# Parent class\n",
    "class Car:\n",
    "    def __init__(self, windows, doors, enginetype):\n",
    "        self.windows = windows\n",
    "        self.doors = doors\n",
    "        self.enginetype = enginetype\n",
    "\n",
    "    def drive(self):\n",
    "        print(f\"The person drives the {self.enginetype} car\")    \n",
    "\n",
    "car1 = Car(4, 4, \"Petrol\")\n",
    "car1.drive()        "
   ]
  },
  {
   "cell_type": "code",
   "execution_count": 4,
   "metadata": {},
   "outputs": [
    {
     "name": "stdout",
     "output_type": "stream",
     "text": [
      "The car is in autopilot mode is: True\n",
      "The person drives the Electric car\n"
     ]
    }
   ],
   "source": [
    "# Single Inheritance\n",
    "\n",
    "class Tesla(Car):\n",
    "    def __init__(self, windows, doors, enginetype, autopilot):\n",
    "        super().__init__(windows, doors, enginetype)\n",
    "        self.autopilot = autopilot\n",
    "\n",
    "    def self_drive(self):\n",
    "        print(f\"The car is in autopilot mode is: {self.autopilot}\")\n",
    "\n",
    "car2 = Tesla(4, 4, \"Electric\", True)\n",
    "car2.self_drive()        \n",
    "\n",
    "car2.drive()"
   ]
  },
  {
   "cell_type": "code",
   "execution_count": 5,
   "metadata": {},
   "outputs": [
    {
     "name": "stdout",
     "output_type": "stream",
     "text": [
      "Bark\n",
      "Dog runs\n"
     ]
    }
   ],
   "source": [
    "# MMultiple Inheritance\n",
    "# When a class inherit from more than one class\n",
    "\n",
    "\n",
    "# Base class 1\n",
    "class Animal:\n",
    "    def __init__(self, name):\n",
    "        self.name = name\n",
    "\n",
    "    def speak(self):\n",
    "        print(\"Subclass must implement this method\")\n",
    "\n",
    "# Base class 2\n",
    "class Pet:\n",
    "    def __init__(self, owner):\n",
    "        self.name = owner\n",
    "\n",
    "    def run(self):\n",
    "        print(\"Subclass must implement this method\")\n",
    "\n",
    "## Derived class\n",
    "class Dog(Animal, Pet):\n",
    "    def __init__(self, name,owner):\n",
    "        Animal.__init__(self, name)\n",
    "        Pet.__init__(self, owner)\n",
    "\n",
    "    def speak(self):\n",
    "        return \"Bark\"\n",
    "\n",
    "    def run(self):\n",
    "        return \"Dog runs\"        \n",
    "\n",
    "## Create an object of the derived class\n",
    "dog = Dog(\"Ezra\", \"John\")\n",
    "print(dog.speak())\n",
    "print(dog.run())                 "
   ]
  },
  {
   "cell_type": "code",
   "execution_count": null,
   "metadata": {},
   "outputs": [],
   "source": []
  }
 ],
 "metadata": {
  "kernelspec": {
   "display_name": "Python 3",
   "language": "python",
   "name": "python3"
  },
  "language_info": {
   "codemirror_mode": {
    "name": "ipython",
    "version": 3
   },
   "file_extension": ".py",
   "mimetype": "text/x-python",
   "name": "python",
   "nbconvert_exporter": "python",
   "pygments_lexer": "ipython3",
   "version": "3.13.1"
  }
 },
 "nbformat": 4,
 "nbformat_minor": 2
}
